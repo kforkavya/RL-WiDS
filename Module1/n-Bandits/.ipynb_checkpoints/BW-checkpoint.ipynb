{
 "cells": [
  {
   "cell_type": "markdown",
   "id": "cf0891d6",
   "metadata": {},
   "source": [
    "- P is the dictionary representing the MDP. \n",
    "- The keys of P are the states given by $H^{0}$,$S^{1}$ and $G^{2}$.\n",
    "- When at state 1(the initial state), the agent can take either a left denoted by action 0 or a right denoted by action 1 and lands at the terminal states 1 or 2 respectively with probability 1."
   ]
  },
  {
   "cell_type": "code",
   "execution_count": null,
   "id": "c1e3b3ce",
   "metadata": {},
   "outputs": [],
   "source": []
  }
 ],
 "metadata": {
  "kernelspec": {
   "display_name": "Python 3 (ipykernel)",
   "language": "python",
   "name": "python3"
  },
  "language_info": {
   "codemirror_mode": {
    "name": "ipython",
    "version": 3
   },
   "file_extension": ".py",
   "mimetype": "text/x-python",
   "name": "python",
   "nbconvert_exporter": "python",
   "pygments_lexer": "ipython3",
   "version": "3.11.5"
  }
 },
 "nbformat": 4,
 "nbformat_minor": 5
}
